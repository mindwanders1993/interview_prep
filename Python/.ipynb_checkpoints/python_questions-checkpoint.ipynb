{
 "cells": [
  {
   "cell_type": "markdown",
   "id": "46470b8b",
   "metadata": {},
   "source": [
    "# Interview Questions & Answers"
   ]
  },
  {
   "cell_type": "markdown",
   "id": "3e996478",
   "metadata": {},
   "source": [
    "Q1. Given a string of characters find the unique characters from the srting?\n",
    "\n",
    "`string = 'abbcecf'"
   ]
  },
  {
   "cell_type": "code",
   "execution_count": null,
   "id": "bc4f5c29",
   "metadata": {},
   "outputs": [],
   "source": []
  },
  {
   "cell_type": "markdown",
   "id": "28a0abba",
   "metadata": {},
   "source": [
    "Q2. Given an array of characters, count the occurance of characters and return a dictionary?\n",
    "\n",
    "`array = ['a','b','e','a']`"
   ]
  },
  {
   "cell_type": "code",
   "execution_count": null,
   "id": "9a6c1edb",
   "metadata": {},
   "outputs": [],
   "source": []
  }
 ],
 "metadata": {
  "kernelspec": {
   "display_name": "Python 3 (ipykernel)",
   "language": "python",
   "name": "python3"
  },
  "language_info": {
   "codemirror_mode": {
    "name": "ipython",
    "version": 3
   },
   "file_extension": ".py",
   "mimetype": "text/x-python",
   "name": "python",
   "nbconvert_exporter": "python",
   "pygments_lexer": "ipython3",
   "version": "3.9.12"
  }
 },
 "nbformat": 4,
 "nbformat_minor": 5
}
