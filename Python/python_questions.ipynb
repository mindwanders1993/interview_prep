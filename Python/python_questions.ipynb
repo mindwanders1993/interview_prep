{
 "cells": [
  {
   "cell_type": "markdown",
   "id": "46470b8b",
   "metadata": {},
   "source": [
    "# Interview Questions & Answers"
   ]
  },
  {
   "cell_type": "markdown",
   "id": "3e996478",
   "metadata": {},
   "source": [
    "Q1. Given a string of characters find the unique characters from the srting?\n",
    "\n",
    "`string = 'abbcecff'"
   ]
  },
  {
   "cell_type": "code",
   "execution_count": 1,
   "id": "bc4f5c29",
   "metadata": {},
   "outputs": [
    {
     "name": "stdout",
     "output_type": "stream",
     "text": [
      "The unique characters in string is: ['a', 'e']\n"
     ]
    }
   ],
   "source": [
    "# input characters\n",
    "string = 'abbcecff'\n",
    "\n",
    "# get unique characters\n",
    "unique_characters = []\n",
    "\n",
    "for character in string:\n",
    "    if character not in unique_characters:\n",
    "        unique_characters.append(character)\n",
    "    else:\n",
    "        unique_characters.remove(character)\n",
    "        \n",
    "print(\"The unique characters in string is: {}\".format(unique_characters))"
   ]
  },
  {
   "cell_type": "markdown",
   "id": "28a0abba",
   "metadata": {},
   "source": [
    "Q2. Given an array of characters, count the occurance of characters and return a dictionary?\n",
    "\n",
    "`array = ['a','b','e','a']`"
   ]
  },
  {
   "cell_type": "code",
   "execution_count": 2,
   "id": "9a6c1edb",
   "metadata": {},
   "outputs": [
    {
     "name": "stdout",
     "output_type": "stream",
     "text": [
      "Frequecny of characters in list: {'a': 2, 'b': 1, 'e': 1}\n"
     ]
    }
   ],
   "source": [
    "# input array\n",
    "array = ['a', 'b', 'e', 'a']\n",
    "\n",
    "# find the frequecy of elements in list\n",
    "all_freq = {}\n",
    "\n",
    "for ele in array:\n",
    "    if ele in all_freq:\n",
    "        all_freq[ele] += 1\n",
    "    else:\n",
    "        all_freq[ele] = 1\n",
    "        \n",
    "print(\"Frequecny of characters in list: {}\".format(all_freq))"
   ]
  },
  {
   "cell_type": "code",
   "execution_count": null,
   "id": "1d660e57",
   "metadata": {},
   "outputs": [],
   "source": []
  }
 ],
 "metadata": {
  "kernelspec": {
   "display_name": "Python 3 (ipykernel)",
   "language": "python",
   "name": "python3"
  },
  "language_info": {
   "codemirror_mode": {
    "name": "ipython",
    "version": 3
   },
   "file_extension": ".py",
   "mimetype": "text/x-python",
   "name": "python",
   "nbconvert_exporter": "python",
   "pygments_lexer": "ipython3",
   "version": "3.9.12"
  }
 },
 "nbformat": 4,
 "nbformat_minor": 5
}
