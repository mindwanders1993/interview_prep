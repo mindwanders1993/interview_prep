{
 "cells": [
  {
   "cell_type": "markdown",
   "id": "46470b8b",
   "metadata": {},
   "source": [
    "# Interview Questions & Answers"
   ]
  },
  {
   "cell_type": "markdown",
   "id": "3e996478",
   "metadata": {},
   "source": [
    "Q1. Given a string of characters find the unique characters from the srting?\n",
    "\n",
    "`string = 'abbcecff'"
   ]
  },
  {
   "cell_type": "code",
   "execution_count": 1,
   "id": "bc4f5c29",
   "metadata": {},
   "outputs": [
    {
     "name": "stdout",
     "output_type": "stream",
     "text": [
      "The unique characters in string is: ['a', 'e']\n"
     ]
    }
   ],
   "source": [
    "# input characters\n",
    "string = 'abbcecff'\n",
    "\n",
    "# get unique characters\n",
    "unique_characters = []\n",
    "\n",
    "for character in string:\n",
    "    if character not in unique_characters:\n",
    "        unique_characters.append(character)\n",
    "    else:\n",
    "        unique_characters.remove(character)\n",
    "        \n",
    "print(\"The unique characters in string is: {}\".format(unique_characters))"
   ]
  },
  {
   "cell_type": "markdown",
   "id": "28a0abba",
   "metadata": {},
   "source": [
    "Q2. Given an array of characters, count the occurance of characters and return a dictionary?\n",
    "\n",
    "`array = ['a','b','e','a']`"
   ]
  },
  {
   "cell_type": "code",
   "execution_count": 2,
   "id": "9a6c1edb",
   "metadata": {},
   "outputs": [
    {
     "name": "stdout",
     "output_type": "stream",
     "text": [
      "Frequecny of characters in list: {'a': 2, 'b': 1, 'e': 1}\n"
     ]
    }
   ],
   "source": [
    "# input array\n",
    "array = ['a', 'b', 'e', 'a']\n",
    "\n",
    "# find the frequecy of elements in list\n",
    "all_freq = {}\n",
    "\n",
    "for ele in array:\n",
    "    if ele in all_freq:\n",
    "        all_freq[ele] += 1\n",
    "    else:\n",
    "        all_freq[ele] = 1\n",
    "        \n",
    "print(\"Frequecny of characters in list: {}\".format(all_freq))"
   ]
  },
  {
   "cell_type": "markdown",
   "id": "56ad30e6",
   "metadata": {},
   "source": [
    "Q3. Given a number, extract each digit from the number without converting it to a string? Write a function to take any input number?\n",
    "\n",
    "`number = 1234`"
   ]
  },
  {
   "cell_type": "code",
   "execution_count": 3,
   "id": "7b1276a5",
   "metadata": {},
   "outputs": [
    {
     "name": "stdout",
     "output_type": "stream",
     "text": [
      "Count of digits in the number: 4\n",
      "Digits in the number: [1, 2, 3, 4]\n"
     ]
    }
   ],
   "source": [
    "# input number\n",
    "number = 1234\n",
    "\n",
    "# count the digits in number\n",
    "num = number\n",
    "count_digits = 0\n",
    "while num != 0:\n",
    "    num = num // 10\n",
    "    count_digits += 1\n",
    "\n",
    "print(\"Count of digits in the number: {}\".format(count_digits))\n",
    "\n",
    "# get the digits in the number\n",
    "digits = []\n",
    "for i in range(count_digits):\n",
    "    digit = number // (10 ** (count_digits - 1))\n",
    "    count_digits -= 1\n",
    "    number = number - (digit * (10 ** count_digits))\n",
    "    digits.append(digit)\n",
    "    \n",
    "print(\"Digits in the number: {}\".format(digits))"
   ]
  },
  {
   "cell_type": "code",
   "execution_count": 4,
   "id": "ece0614c",
   "metadata": {},
   "outputs": [],
   "source": [
    "# function to find digits in the number\n",
    "def find_digits(number):\n",
    "    # count the digits in number\n",
    "    num = number\n",
    "    count_digits = 0\n",
    "    while num != 0:\n",
    "        num = num // 10\n",
    "        count_digits += 1\n",
    "\n",
    "    print(\"Count of digits in the number: {}\".format(count_digits))\n",
    "\n",
    "    # get the digits in the number\n",
    "    digits = []\n",
    "    for i in range(count_digits):\n",
    "        digit = number // (10 ** (count_digits - 1))\n",
    "        count_digits -= 1\n",
    "        number = number - (digit * (10 ** count_digits))\n",
    "        digits.append(digit)\n",
    "\n",
    "    return digits"
   ]
  },
  {
   "cell_type": "code",
   "execution_count": 5,
   "id": "f6bd6e93",
   "metadata": {},
   "outputs": [
    {
     "name": "stdout",
     "output_type": "stream",
     "text": [
      "Count of digits in the number: 8\n",
      "Digits in the number 54679526 is: [5, 4, 6, 7, 9, 5, 2, 6]\n"
     ]
    }
   ],
   "source": [
    "# find digits of an input number\n",
    "print(\"Digits in the number 54679526 is: {}\".format(find_digits(54679526)))"
   ]
  },
  {
   "cell_type": "code",
   "execution_count": null,
   "id": "bf0c6df5",
   "metadata": {},
   "outputs": [],
   "source": []
  }
 ],
 "metadata": {
  "kernelspec": {
   "display_name": "Python 3 (ipykernel)",
   "language": "python",
   "name": "python3"
  },
  "language_info": {
   "codemirror_mode": {
    "name": "ipython",
    "version": 3
   },
   "file_extension": ".py",
   "mimetype": "text/x-python",
   "name": "python",
   "nbconvert_exporter": "python",
   "pygments_lexer": "ipython3",
   "version": "3.9.12"
  }
 },
 "nbformat": 4,
 "nbformat_minor": 5
}
